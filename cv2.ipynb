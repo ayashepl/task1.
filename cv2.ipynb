{
 "cells": [
  {
   "cell_type": "code",
   "execution_count": null,
   "metadata": {},
   "outputs": [],
   "source": []
  },
  {
   "cell_type": "code",
   "execution_count": 1,
   "metadata": {},
   "outputs": [],
   "source": [
    "import cv2\n",
    "import numpy as np"
   ]
  },
  {
   "cell_type": "code",
   "execution_count": 2,
   "metadata": {},
   "outputs": [
    {
     "name": "stdout",
     "output_type": "stream",
     "text": [
      "[[[255 255 255]\n",
      "  [255 255 255]\n",
      "  [248 248 253]\n",
      "  ...\n",
      "  [238 238 238]\n",
      "  [238 238 238]\n",
      "  [238 238 238]]\n",
      "\n",
      " [[217 162 143]\n",
      "  [202 129  96]\n",
      "  [202 108  65]\n",
      "  ...\n",
      "  [238 238 238]\n",
      "  [238 238 238]\n",
      "  [238 238 238]]\n",
      "\n",
      " [[215  96  40]\n",
      "  [215  96  40]\n",
      "  [214 126  76]\n",
      "  ...\n",
      "  [238 238 238]\n",
      "  [238 238 238]\n",
      "  [238 238 238]]\n",
      "\n",
      " ...\n",
      "\n",
      " [[238 238 238]\n",
      "  [238 238 238]\n",
      "  [238 238 238]\n",
      "  ...\n",
      "  [255 255 255]\n",
      "  [255 255 255]\n",
      "  [255 255 255]]\n",
      "\n",
      " [[238 238 238]\n",
      "  [238 238 238]\n",
      "  [238 238 238]\n",
      "  ...\n",
      "  [255 255 255]\n",
      "  [255 255 255]\n",
      "  [255 255 255]]\n",
      "\n",
      " [[238 238 238]\n",
      "  [238 238 238]\n",
      "  [238 238 238]\n",
      "  ...\n",
      "  [255 255 255]\n",
      "  [255 255 255]\n",
      "  [255 255 255]]]\n",
      "(326, 360, 3)\n"
     ]
    }
   ],
   "source": [
    "img1 = cv2.imread(\"a.png\")\n",
    "print(img1)\n",
    "print(img1.shape)"
   ]
  },
  {
   "cell_type": "code",
   "execution_count": 3,
   "metadata": {},
   "outputs": [],
   "source": [
    "Rimg1 = cv2.resize(img1, (300,300))\n",
    "cv2.imshow(\"aya\", Rimg1)\n",
    "cv2.waitKey(0)\n",
    "cv2.destroyAllWindows()"
   ]
  },
  {
   "cell_type": "code",
   "execution_count": 4,
   "metadata": {},
   "outputs": [
    {
     "data": {
      "text/plain": [
       "True"
      ]
     },
     "execution_count": 4,
     "metadata": {},
     "output_type": "execute_result"
    }
   ],
   "source": [
    "directory = r\"D:\\New folder\"\n",
    "file_name = 'saved image.png'\n",
    "cv2.imwrite(file_name,Rimg1)"
   ]
  },
  {
   "cell_type": "code",
   "execution_count": 5,
   "metadata": {},
   "outputs": [
    {
     "name": "stdout",
     "output_type": "stream",
     "text": [
      "True\n"
     ]
    }
   ],
   "source": [
    "vid = cv2.VideoCapture(0)\n",
    "fourcc = cv2.VideoWriter_fourcc(*'XVID')\n",
    "out = cv2.VideoWriter('output.avi', fourcc , 20.0 , (640,480))\n",
    "\n",
    "print(vid.isOpened())\n",
    "while(vid.isOpened):\n",
    "    ret , Frame =vid.read()\n",
    "    \n",
    "    out.write(Frame)\n",
    "    \n",
    "    cv2.imshow(\"aya\", Frame)\n",
    "    \n",
    "    if cv2.waitKey(1) == ord('q'):\n",
    "         break\n",
    "vid.release()        \n",
    "out.release()    \n",
    "cv2.destroyAllWindows()"
   ]
  },
  {
   "cell_type": "code",
   "execution_count": null,
   "metadata": {},
   "outputs": [],
   "source": []
  },
  {
   "cell_type": "code",
   "execution_count": null,
   "metadata": {},
   "outputs": [],
   "source": []
  }
 ],
 "metadata": {
  "kernelspec": {
   "display_name": "Python 3",
   "language": "python",
   "name": "python3"
  },
  "language_info": {
   "codemirror_mode": {
    "name": "ipython",
    "version": 3
   },
   "file_extension": ".py",
   "mimetype": "text/x-python",
   "name": "python",
   "nbconvert_exporter": "python",
   "pygments_lexer": "ipython3",
   "version": "3.8.5"
  }
 },
 "nbformat": 4,
 "nbformat_minor": 5
}
